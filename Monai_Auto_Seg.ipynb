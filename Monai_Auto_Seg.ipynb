{
  "nbformat": 4,
  "nbformat_minor": 0,
  "metadata": {
    "colab": {
      "provenance": [],
      "gpuType": "T4"
    },
    "kernelspec": {
      "name": "python3",
      "display_name": "Python 3"
    },
    "language_info": {
      "name": "python"
    },
    "accelerator": "GPU"
  },
  "cells": [
    {
      "cell_type": "code",
      "execution_count": null,
      "metadata": {
        "id": "ew9McrSihpuu",
        "colab": {
          "base_uri": "https://localhost:8080/"
        },
        "outputId": "63fdaa1a-5558-4186-cdf6-08db06184c2e"
      },
      "outputs": [
        {
          "output_type": "stream",
          "name": "stdout",
          "text": [
            "Collecting monai\n",
            "  Downloading monai-1.4.0-py3-none-any.whl.metadata (11 kB)\n",
            "Requirement already satisfied: numpy<2.0,>=1.24 in /usr/local/lib/python3.10/dist-packages (from monai) (1.26.4)\n",
            "Requirement already satisfied: torch>=1.9 in /usr/local/lib/python3.10/dist-packages (from monai) (2.5.1+cu121)\n",
            "Requirement already satisfied: filelock in /usr/local/lib/python3.10/dist-packages (from torch>=1.9->monai) (3.16.1)\n",
            "Requirement already satisfied: typing-extensions>=4.8.0 in /usr/local/lib/python3.10/dist-packages (from torch>=1.9->monai) (4.12.2)\n",
            "Requirement already satisfied: networkx in /usr/local/lib/python3.10/dist-packages (from torch>=1.9->monai) (3.4.2)\n",
            "Requirement already satisfied: jinja2 in /usr/local/lib/python3.10/dist-packages (from torch>=1.9->monai) (3.1.4)\n",
            "Requirement already satisfied: fsspec in /usr/local/lib/python3.10/dist-packages (from torch>=1.9->monai) (2024.10.0)\n",
            "Requirement already satisfied: sympy==1.13.1 in /usr/local/lib/python3.10/dist-packages (from torch>=1.9->monai) (1.13.1)\n",
            "Requirement already satisfied: mpmath<1.4,>=1.1.0 in /usr/local/lib/python3.10/dist-packages (from sympy==1.13.1->torch>=1.9->monai) (1.3.0)\n",
            "Requirement already satisfied: MarkupSafe>=2.0 in /usr/local/lib/python3.10/dist-packages (from jinja2->torch>=1.9->monai) (3.0.2)\n",
            "Downloading monai-1.4.0-py3-none-any.whl (1.5 MB)\n",
            "\u001b[2K   \u001b[90m━━━━━━━━━━━━━━━━━━━━━━━━━━━━━━━━━━━━━━━━\u001b[0m \u001b[32m1.5/1.5 MB\u001b[0m \u001b[31m23.7 MB/s\u001b[0m eta \u001b[36m0:00:00\u001b[0m\n",
            "\u001b[?25hInstalling collected packages: monai\n",
            "Successfully installed monai-1.4.0\n"
          ]
        }
      ],
      "source": [
        "!pip install --upgrade monai\n",
        "\n"
      ]
    },
    {
      "cell_type": "code",
      "source": [
        "# mount google drive content\n",
        "import os\n",
        "from google.colab import drive\n",
        "drive.mount('/content/drive', force_remount=True)\n",
        "\n",
        "# get and display the file path of the current file in GDrive\n",
        "GOOGLE_DRIVE_PATH_AFTER_MYDRIVE = 'Auto-Segmentation'\n",
        "GOOGLE_DRIVE_PATH = os.path.join('drive', 'MyDrive',\n",
        "                                 GOOGLE_DRIVE_PATH_AFTER_MYDRIVE)\n"
      ],
      "metadata": {
        "id": "SY5PrR86lbgm",
        "colab": {
          "base_uri": "https://localhost:8080/"
        },
        "outputId": "e2a1e2d1-ba3d-4895-90c3-85261b4aa4a7"
      },
      "execution_count": null,
      "outputs": [
        {
          "output_type": "stream",
          "name": "stdout",
          "text": [
            "Mounted at /content/drive\n"
          ]
        }
      ]
    },
    {
      "cell_type": "code",
      "source": [
        "from google.colab import drive\n",
        "drive.mount('/content/drive')"
      ],
      "metadata": {
        "colab": {
          "base_uri": "https://localhost:8080/"
        },
        "id": "oqknckBtIe9N",
        "outputId": "70971701-5de3-49c2-cdf4-46e48cbdc51b"
      },
      "execution_count": null,
      "outputs": [
        {
          "output_type": "stream",
          "name": "stdout",
          "text": [
            "Drive already mounted at /content/drive; to attempt to forcibly remount, call drive.mount(\"/content/drive\", force_remount=True).\n"
          ]
        }
      ]
    },
    {
      "cell_type": "code",
      "source": [],
      "metadata": {
        "id": "xL6WzdLsyPdt"
      },
      "execution_count": null,
      "outputs": []
    },
    {
      "cell_type": "code",
      "source": [
        "!pip install nibabel"
      ],
      "metadata": {
        "colab": {
          "base_uri": "https://localhost:8080/"
        },
        "id": "m78cFcQTwHEo",
        "outputId": "6e43caa9-76a0-4afb-91f0-6aa6cb5f4de6"
      },
      "execution_count": null,
      "outputs": [
        {
          "output_type": "stream",
          "name": "stdout",
          "text": [
            "Requirement already satisfied: nibabel in /usr/local/lib/python3.10/dist-packages (5.3.2)\n",
            "Requirement already satisfied: importlib-resources>=5.12 in /usr/local/lib/python3.10/dist-packages (from nibabel) (6.4.5)\n",
            "Requirement already satisfied: numpy>=1.22 in /usr/local/lib/python3.10/dist-packages (from nibabel) (1.26.4)\n",
            "Requirement already satisfied: packaging>=20 in /usr/local/lib/python3.10/dist-packages (from nibabel) (24.2)\n",
            "Requirement already satisfied: typing-extensions>=4.6 in /usr/local/lib/python3.10/dist-packages (from nibabel) (4.12.2)\n"
          ]
        }
      ]
    },
    {
      "cell_type": "code",
      "source": [
        "import json\n",
        "import nibabel as nib\n",
        "import numpy as np\n",
        "import matplotlib.pyplot as plt\n",
        "\n",
        "from monai.apps.auto3dseg import AutoRunner\n",
        "from monai.config import print_config\n",
        "from monai.data import create_test_image_3d\n",
        "\n",
        "print_config()"
      ],
      "metadata": {
        "colab": {
          "base_uri": "https://localhost:8080/"
        },
        "id": "nlrUQGMHmmIO",
        "outputId": "c8038a34-02a6-4da7-8f99-b4a9bca48ea7"
      },
      "execution_count": null,
      "outputs": [
        {
          "output_type": "stream",
          "name": "stdout",
          "text": [
            "MONAI version: 1.4.0\n",
            "Numpy version: 1.26.4\n",
            "Pytorch version: 2.5.1+cu121\n",
            "MONAI flags: HAS_EXT = False, USE_COMPILED = False, USE_META_DICT = False\n",
            "MONAI rev id: 46a5272196a6c2590ca2589029eed8e4d56ff008\n",
            "MONAI __file__: /usr/local/lib/python3.10/dist-packages/monai/__init__.py\n",
            "\n",
            "Optional dependencies:\n",
            "Pytorch Ignite version: NOT INSTALLED or UNKNOWN VERSION.\n",
            "ITK version: NOT INSTALLED or UNKNOWN VERSION.\n",
            "Nibabel version: 5.3.2\n",
            "scikit-image version: 0.24.0\n",
            "scipy version: 1.13.1\n",
            "Pillow version: 11.0.0\n",
            "Tensorboard version: 2.17.1\n",
            "gdown version: 5.2.0\n",
            "TorchVision version: 0.20.1+cu121\n",
            "tqdm version: 4.66.6\n",
            "lmdb version: NOT INSTALLED or UNKNOWN VERSION.\n",
            "psutil version: 5.9.5\n",
            "pandas version: 2.2.2\n",
            "einops version: 0.8.0\n",
            "transformers version: 4.46.3\n",
            "mlflow version: NOT INSTALLED or UNKNOWN VERSION.\n",
            "pynrrd version: NOT INSTALLED or UNKNOWN VERSION.\n",
            "clearml version: NOT INSTALLED or UNKNOWN VERSION.\n",
            "\n",
            "For details about installing the optional dependencies, please visit:\n",
            "    https://docs.monai.io/en/latest/installation.html#installing-the-recommended-dependencies\n",
            "\n"
          ]
        }
      ]
    },
    {
      "cell_type": "code",
      "source": [
        "def load_data(data_path, label_path, diff=False):\n",
        "  x = np.load(data_path)['X']\n",
        "  x = x / np.max(x)\n",
        "\n",
        "  y = np.load(label_path)['Y']\n",
        "  y = y / np.max(y)\n",
        "\n",
        "  for i in range(y.shape[0]):\n",
        "    for j in range(y.shape[4]):\n",
        "      for k in range(y.shape[3]):\n",
        "        y[i, :, :, k, j] = y[i, :, :, k, j].T\n",
        "\n",
        "  if not diff:\n",
        "    X = np.zeros((x.shape[0] * x.shape[-1], 512, 512, 64))\n",
        "    Y = np.zeros((y.shape[0] * y.shape[-1], 512, 512, 64))\n",
        "\n",
        "    count = 0\n",
        "    for i in range(x.shape[0]):\n",
        "      for j in range(x.shape[-1]):\n",
        "        X[count, :, :, :] = x[i, :, :, :, j]\n",
        "        Y[count, :, :, :] = y[i, :, :, :, j]\n",
        "\n",
        "        count += 1\n",
        "\n",
        "    return X, Y\n",
        "\n",
        "  else:\n",
        "    return x, y\n",
        "\n",
        "def separate_z(x, y):\n",
        "  X = np.zeros((x.shape[0] * x.shape[-1], 512, 512))\n",
        "  Y = np.zeros((y.shape[0] * y.shape[-1], 512, 512))\n",
        "\n",
        "  count = 0\n",
        "\n",
        "  for i in range(x.shape[0]):\n",
        "    for j in range(x.shape[-1]):\n",
        "      X[count, :, :] = x[i, :, :, j]\n",
        "      Y[count, :, :] = y[i, :, :, j]\n",
        "      count += 1\n",
        "\n",
        "  return X, Y"
      ],
      "metadata": {
        "id": "3uQtOlMAldCo"
      },
      "execution_count": null,
      "outputs": []
    },
    {
      "cell_type": "code",
      "source": [
        "data_path = os.path.join(GOOGLE_DRIVE_PATH, 'data/X1.npz')\n",
        "label_path = os.path.join(GOOGLE_DRIVE_PATH, 'data/Y1.npz')"
      ],
      "metadata": {
        "id": "U34Rz7n_iD9N"
      },
      "execution_count": null,
      "outputs": []
    },
    {
      "cell_type": "code",
      "source": [
        "# Set up data here\n",
        "x, y = load_data(data_path, label_path)\n",
        "X, Y = separate_z(x, y)\n",
        "# seperating the data to reduce dimensionality for monai !\n"
      ],
      "metadata": {
        "id": "xa-4MdV5i0dC"
      },
      "execution_count": null,
      "outputs": []
    },
    {
      "cell_type": "code",
      "source": [
        "# here we will choose our test splits for training\n",
        "\n",
        "test_split = 0.05\n",
        "loc = int(X.shape[0] * test_split)\n",
        "loc = 5\n",
        "x_train = x[loc:, :, :,:]\n",
        "x_test = x[:loc, :, :,:]\n",
        "y_train = y[loc:, :, :,:]\n",
        "y_test = y[:loc, :, :,:]"
      ],
      "metadata": {
        "id": "rHgdcV5dujsW"
      },
      "execution_count": null,
      "outputs": []
    },
    {
      "cell_type": "code",
      "source": [
        "print(y_train.shape)"
      ],
      "metadata": {
        "colab": {
          "base_uri": "https://localhost:8080/"
        },
        "id": "fBP_n_H9umbP",
        "outputId": "afc7cfb1-820d-4be8-831b-eca5eb0d106c"
      },
      "execution_count": null,
      "outputs": [
        {
          "output_type": "stream",
          "name": "stdout",
          "text": [
            "(15, 512, 512, 64)\n"
          ]
        }
      ]
    },
    {
      "cell_type": "code",
      "source": [
        "import nibabel as nib\n",
        "def save_arrays_to_nii(data, work_dir, train=True,test=False, image=True):\n",
        "  \"\"\"\n",
        "  Saves each array in a list of arrays to a separate .nii.gz file.\n",
        "\n",
        "  Args:\n",
        "    data: A list of NumPy arrays.\n",
        "    work_dir: The directory where the .nii.gz files will be saved.\n",
        "  \"\"\"\n",
        "  affine = np.eye(4)\n",
        "  if train and image:\n",
        "    for index, array in enumerate(data):\n",
        "      filename = f\"{work_dir}/tr_image_{str(index + 1).zfill(3)}.nii.gz\"\n",
        "      nib.save(nib.Nifti1Image(array, affine), filename)\n",
        "  elif train and not image:\n",
        "    for index, array in enumerate(data):\n",
        "      filename = f\"{work_dir}/tr_label_{str(index + 1).zfill(3)}.nii.gz\"\n",
        "      nib.save(nib.Nifti1Image(array, affine), filename)\n",
        "  elif test and image:\n",
        "    for index, array in enumerate(data):\n",
        "      filename = f\"{work_dir}/te_image_{str(index + 1).zfill(3)}.nii.gz\"\n",
        "      nib.save(nib.Nifti1Image(array, affine), filename)\n",
        "  elif test and not image:\n",
        "    for index, array in enumerate(data):\n",
        "      filename = f\"{work_dir}/te_label_{str(index + 1).zfill(3)}.nii.gz\"\n",
        "      nib.save(nib.Nifti1Image(array, affine), filename)\n",
        "\n",
        "\n",
        "\n",
        "work_dir = \"./Auto-Segmentation\"\n",
        "if not os.path.isdir(work_dir):\n",
        "    os.makedirs(work_dir)\n",
        "\n",
        "save_arrays_to_nii(x_train, work_dir)\n",
        "save_arrays_to_nii(x_test, work_dir,train=False,test=True)\n",
        "save_arrays_to_nii(y_train, work_dir,image=False)\n",
        "save_arrays_to_nii(y_test, work_dir,train=False,test=True,image=False)\n",
        "\n",
        "\n",
        "train_data = {\"image\": x_train, \"label\": y_train}\n",
        "test_data = {\"image\": x_test, \"label\": y_test}\n",
        "sim_datalist = {\"testing\": test_data, \"training\": train_data}\n"
      ],
      "metadata": {
        "id": "cbVUKHORvDxI"
      },
      "execution_count": null,
      "outputs": []
    },
    {
      "cell_type": "code",
      "source": [
        "def get_nii_files(directory):\n",
        "  \"\"\"\n",
        "  Returns a list of all files with the .nii.gz extension in a directory.\n",
        "\n",
        "  Args:\n",
        "    directory: The directory to search for files.\n",
        "\n",
        "  Returns:\n",
        "    A list of filenames with the .nii.gz extension.\n",
        "  \"\"\"\n",
        "\n",
        "  nii_files = []\n",
        "  for filename in os.listdir(directory):\n",
        "    if filename.endswith(\".nii.gz\"):\n",
        "      nii_files.append(filename)\n",
        "\n",
        "  return nii_files\n",
        "\n",
        "# Example usage:\n",
        "work_dir = \"./Auto-Segmentation\"\n",
        "nii_files = get_nii_files(work_dir)\n",
        "\n",
        "# Print the list of .nii.gz files\n",
        "print(nii_files)"
      ],
      "metadata": {
        "colab": {
          "base_uri": "https://localhost:8080/"
        },
        "id": "-hPaM_0pR-q8",
        "outputId": "abf1018f-4663-4590-e444-d43830033c0f"
      },
      "execution_count": null,
      "outputs": [
        {
          "output_type": "stream",
          "name": "stdout",
          "text": [
            "['tr_image_009.nii.gz', 'tr_label_005.nii.gz', 'tr_image_003.nii.gz', 'te_label_002.nii.gz', 'tr_label_011.nii.gz', 'tr_image_001.nii.gz', 'tr_label_007.nii.gz', 'tr_image_008.nii.gz', 'tr_image_011.nii.gz', 'tr_image_002.nii.gz', 'te_label_005.nii.gz', 'tr_label_015.nii.gz', 'tr_label_012.nii.gz', 'tr_label_013.nii.gz', 'tr_label_008.nii.gz', 'tr_image_013.nii.gz', 'te_image_002.nii.gz', 'tr_label_009.nii.gz', 'te_image_003.nii.gz', 'tr_image_015.nii.gz', 'tr_label_003.nii.gz', 'te_image_004.nii.gz', 'tr_image_006.nii.gz', 'te_label_001.nii.gz', 'tr_image_010.nii.gz', 'te_label_003.nii.gz', 'tr_image_012.nii.gz', 'tr_image_014.nii.gz', 'tr_label_010.nii.gz', 'tr_label_004.nii.gz', 'tr_label_014.nii.gz', 'te_label_004.nii.gz', 'tr_label_001.nii.gz', 'tr_image_007.nii.gz', 'tr_image_004.nii.gz', 'te_image_005.nii.gz', 'te_image_001.nii.gz', 'tr_image_005.nii.gz', 'tr_label_006.nii.gz', 'tr_label_002.nii.gz']\n"
          ]
        }
      ]
    },
    {
      "cell_type": "code",
      "source": [
        "print(os.listdir(work_dir))\n",
        "\n",
        "sim_datalist = {\n",
        "  \"testing\": [\n",
        "      {\"image\": 'te_image_001.nii.gz', \"label\": 'te_label_001.nii.gz'},\n",
        "      {\"image\": 'te_image_002.nii.gz', \"label\": 'te_label_002.nii.gz'},\n",
        "      {\"image\": 'te_image_003.nii.gz', \"label\": 'te_label_003.nii.gz'},\n",
        "      {\"image\": 'te_image_004.nii.gz', \"label\": 'te_label_004.nii.gz'},\n",
        "      {\"image\": 'te_image_005.nii.gz', \"label\": 'te_label_005.nii.gz'},\n",
        "  ],\n",
        "  \"training\": [\n",
        "      {\"fold\": 0, \"image\": 'tr_image_001.nii.gz', \"label\": \"tr_label_001.nii.gz\"},\n",
        "      {\"fold\": 0, \"image\": 'tr_image_002.nii.gz', \"label\": \"tr_label_002.nii.gz\"},\n",
        "      {\"fold\": 0, \"image\": 'tr_image_003.nii.gz', \"label\": \"tr_label_003.nii.gz\"},\n",
        "      {\"fold\": 0, \"image\": 'tr_image_004.nii.gz', \"label\": \"tr_label_004.nii.gz\"},\n",
        "      {\"fold\": 0, \"image\": 'tr_image_005.nii.gz', \"label\": \"tr_label_005.nii.gz\"},\n",
        "      {\"fold\": 1, \"image\": 'tr_image_006.nii.gz', \"label\": \"tr_label_006.nii.gz\"},\n",
        "      {\"fold\": 1, \"image\": 'tr_image_007.nii.gz', \"label\": \"tr_label_007.nii.gz\"},\n",
        "      {\"fold\": 1, \"image\": 'tr_image_008.nii.gz', \"label\": \"tr_label_008.nii.gz\"},\n",
        "      {\"fold\": 1, \"image\": 'tr_image_009.nii.gz', \"label\": \"tr_label_009.nii.gz\"},\n",
        "      {\"fold\": 1, \"image\": 'tr_image_010.nii.gz', \"label\": \"tr_label_010.nii.gz\"},\n",
        "      {\"fold\": 2, \"image\": 'tr_image_011.nii.gz', \"label\": \"tr_label_011.nii.gz\"},\n",
        "      {\"fold\": 2, \"image\": 'tr_image_012.nii.gz', \"label\": \"tr_label_012.nii.gz\"},\n",
        "      {\"fold\": 2, \"image\": 'tr_image_013.nii.gz', \"label\": \"tr_label_013.nii.gz\"},\n",
        "      {\"fold\": 2, \"image\": 'tr_image_014.nii.gz', \"label\": \"tr_label_014.nii.gz\"},\n",
        "      {\"fold\": 2, \"image\": 'tr_image_015.nii.gz', \"label\": \"tr_label_015.nii.gz\"},\n",
        "  ],\n",
        "  }"
      ],
      "metadata": {
        "colab": {
          "base_uri": "https://localhost:8080/"
        },
        "id": "s0cM0diQRdXz",
        "outputId": "3f8ccf69-fc63-4e80-836b-27dd1990c985"
      },
      "execution_count": null,
      "outputs": [
        {
          "output_type": "stream",
          "name": "stdout",
          "text": [
            "['tr_image_009.nii.gz', 'tr_label_005.nii.gz', 'tr_image_003.nii.gz', 'te_label_002.nii.gz', 'tr_label_011.nii.gz', 'tr_image_001.nii.gz', 'tr_label_007.nii.gz', 'tr_image_008.nii.gz', 'tr_image_011.nii.gz', 'tr_image_002.nii.gz', 'te_label_005.nii.gz', 'tr_label_015.nii.gz', 'tr_label_012.nii.gz', 'tr_label_013.nii.gz', 'tr_label_008.nii.gz', 'tr_image_013.nii.gz', 'te_image_002.nii.gz', 'tr_label_009.nii.gz', 'te_image_003.nii.gz', 'tr_image_015.nii.gz', 'tr_label_003.nii.gz', 'te_image_004.nii.gz', 'tr_image_006.nii.gz', 'te_label_001.nii.gz', 'tr_image_010.nii.gz', 'te_label_003.nii.gz', 'tr_image_012.nii.gz', 'tr_image_014.nii.gz', 'tr_label_010.nii.gz', 'tr_label_004.nii.gz', 'tr_label_014.nii.gz', 'te_label_004.nii.gz', 'tr_label_001.nii.gz', 'tr_image_007.nii.gz', 'tr_image_004.nii.gz', 'te_image_005.nii.gz', 'te_image_001.nii.gz', 'tr_image_005.nii.gz', 'tr_label_006.nii.gz', 'tr_label_002.nii.gz']\n"
          ]
        }
      ]
    },
    {
      "cell_type": "code",
      "source": [
        "!pip install ujson"
      ],
      "metadata": {
        "colab": {
          "base_uri": "https://localhost:8080/"
        },
        "id": "9kZje3ON2zTx",
        "outputId": "7e8db37a-b5b5-4eed-cde5-9693b629ce66"
      },
      "execution_count": null,
      "outputs": [
        {
          "output_type": "stream",
          "name": "stdout",
          "text": [
            "Collecting ujson\n",
            "  Downloading ujson-5.10.0-cp310-cp310-manylinux_2_17_x86_64.manylinux2014_x86_64.whl.metadata (9.3 kB)\n",
            "Downloading ujson-5.10.0-cp310-cp310-manylinux_2_17_x86_64.manylinux2014_x86_64.whl (53 kB)\n",
            "\u001b[?25l   \u001b[90m━━━━━━━━━━━━━━━━━━━━━━━━━━━━━━━━━━━━━━━━\u001b[0m \u001b[32m0.0/53.6 kB\u001b[0m \u001b[31m?\u001b[0m eta \u001b[36m-:--:--\u001b[0m\r\u001b[2K   \u001b[90m━━━━━━━━━━━━━━━━━━━━━━━━━━━━━━━━━━━━━━━━\u001b[0m \u001b[32m53.6/53.6 kB\u001b[0m \u001b[31m2.6 MB/s\u001b[0m eta \u001b[36m0:00:00\u001b[0m\n",
            "\u001b[?25hInstalling collected packages: ujson\n",
            "Successfully installed ujson-5.10.0\n"
          ]
        }
      ]
    },
    {
      "cell_type": "code",
      "source": [
        "import ujson\n",
        "sim_dim = x.shape\n",
        "work_dir = \"./Auto-Segmentation\"\n",
        "\n",
        "dataroot_dir = work_dir\n",
        "if not os.path.isdir(dataroot_dir):\n",
        "    os.makedirs(dataroot_dir)\n",
        "datalist_file = os.path.join(work_dir, \"sim_datalist.json\")\n",
        "with open(datalist_file, \"w\") as f:\n",
        "    ujson.dump(sim_datalist, f)\n"
      ],
      "metadata": {
        "id": "JDtNJKomuWqV"
      },
      "execution_count": null,
      "outputs": []
    },
    {
      "cell_type": "code",
      "source": [
        "# print(os.listdir(f'{work_dir}/dints_0/configs'))\n",
        "# import yaml\n",
        "# with open(f'{work_dir}/dints_0/configs/hyper_parameters.yaml', \"r\") as f:\n",
        "#     # Load the YAML file into a Python dictionary\n",
        "#     data = yaml.load(f, Loader=yaml.FullLoader)\n",
        "# data[\"bundle_root\"] = datalist_file\n",
        "\n",
        "# with open(\"hyper_parameters.yaml\", \"w\") as f:\n",
        "#     yaml.dump(data, f)\n",
        "# # Print the dictionary\n",
        "# print(data)"
      ],
      "metadata": {
        "id": "s_0BPjn1_2ag"
      },
      "execution_count": null,
      "outputs": []
    },
    {
      "cell_type": "code",
      "source": [
        "# print(os.listdir(f'{work_dir}'))\n",
        "# work_dir  = \"Auto-Segmentation/dints_0\"\n",
        "\n",
        "# !torchrun --nnodes=1 --nproc_per_node=8 -m scripts.train run --config_file \"['configs/hyper_parameters.json','configs/network.yaml','configs/transforms_train.json','configs/transforms_validate.json']\"\n",
        "\n"
      ],
      "metadata": {
        "id": "LVsbRa7Iymlw"
      },
      "execution_count": null,
      "outputs": []
    },
    {
      "cell_type": "code",
      "source": [
        "\n",
        "runner_jk = AutoRunner(\n",
        "    work_dir=work_dir,\n",
        "    input={\n",
        "        \"modality\": \"MRI\",\n",
        "        \"datalist\": datalist_file,\n",
        "        \"dataroot\": work_dir\n",
        "    },\n",
        "    algos=['dints', 'segresnet'],\n",
        "    output_dir=\"./output_dir\"\n",
        ")\n"
      ],
      "metadata": {
        "colab": {
          "base_uri": "https://localhost:8080/"
        },
        "id": "6MKQgfdlRnCF",
        "outputId": "914a8059-e80a-457e-eb74-041895e09fcb"
      },
      "execution_count": null,
      "outputs": [
        {
          "output_type": "stream",
          "name": "stdout",
          "text": [
            "2024-12-10 15:19:35,845 - INFO - AutoRunner using work directory /content/Auto-Segmentation\n",
            "2024-12-10 15:19:35,850 - INFO - Found num_fold 3 based on the input datalist /content/Auto-Segmentation/sim_datalist.json.\n",
            "2024-12-10 15:19:35,852 - INFO - Setting num_fold 3 based on the input datalist /content/Auto-Segmentation/sim_datalist.json.\n",
            "2024-12-10 15:19:35,882 - INFO - Using user defined command running prefix , will override other settings\n"
          ]
        }
      ]
    },
    {
      "cell_type": "code",
      "source": [
        "max_epochs = 6\n",
        "\n",
        "train_param = {\n",
        "    \"num_epochs_per_validation\": 1,\n",
        "    \"num_images_per_batch\": 2,\n",
        "    \"num_epochs\": max_epochs,\n",
        "    \"num_warmup_epochs\": 1,\n",
        "}\n",
        "runner_jk.set_training_params(train_param)\n",
        "\n"
      ],
      "metadata": {
        "id": "iIa4L9aGjcfQ",
        "colab": {
          "base_uri": "https://localhost:8080/"
        },
        "outputId": "2e2bdb0e-cd68-4750-ad4b-0ed1274483ec"
      },
      "execution_count": null,
      "outputs": [
        {
          "output_type": "execute_result",
          "data": {
            "text/plain": [
              "<monai.apps.auto3dseg.auto_runner.AutoRunner at 0x7ef04916dea0>"
            ]
          },
          "metadata": {},
          "execution_count": 28
        }
      ]
    },
    {
      "cell_type": "code",
      "source": [
        "!pip install fire"
      ],
      "metadata": {
        "colab": {
          "base_uri": "https://localhost:8080/"
        },
        "id": "l_0kd8mdNbJk",
        "outputId": "431609c1-ace4-4fa9-c13d-30af00f9372b"
      },
      "execution_count": null,
      "outputs": [
        {
          "output_type": "stream",
          "name": "stdout",
          "text": [
            "Collecting fire\n",
            "  Downloading fire-0.7.0.tar.gz (87 kB)\n",
            "\u001b[?25l     \u001b[90m━━━━━━━━━━━━━━━━━━━━━━━━━━━━━━━━━━━━━━━━\u001b[0m \u001b[32m0.0/87.2 kB\u001b[0m \u001b[31m?\u001b[0m eta \u001b[36m-:--:--\u001b[0m\r\u001b[2K     \u001b[90m━━━━━━━━━━━━━━━━━━━━━━━━━━━━━━━━━━━━━━━━\u001b[0m \u001b[32m87.2/87.2 kB\u001b[0m \u001b[31m3.4 MB/s\u001b[0m eta \u001b[36m0:00:00\u001b[0m\n",
            "\u001b[?25h  Preparing metadata (setup.py) ... \u001b[?25l\u001b[?25hdone\n",
            "Requirement already satisfied: termcolor in /usr/local/lib/python3.10/dist-packages (from fire) (2.5.0)\n",
            "Building wheels for collected packages: fire\n",
            "  Building wheel for fire (setup.py) ... \u001b[?25l\u001b[?25hdone\n",
            "  Created wheel for fire: filename=fire-0.7.0-py3-none-any.whl size=114249 sha256=d79068557a9f62c2a532c6dfbf1a50d40d50aa26bc34203e067f592f6b2ae0e0\n",
            "  Stored in directory: /root/.cache/pip/wheels/19/39/2f/2d3cadc408a8804103f1c34ddd4b9f6a93497b11fa96fe738e\n",
            "Successfully built fire\n",
            "Installing collected packages: fire\n",
            "Successfully installed fire-0.7.0\n"
          ]
        }
      ]
    },
    {
      "cell_type": "code",
      "source": [
        "runner_jk.run()\n"
      ],
      "metadata": {
        "colab": {
          "base_uri": "https://localhost:8080/"
        },
        "id": "5ad65M1Aq3Nr",
        "outputId": "a867911f-5c03-4b20-87b8-f95251e918b8"
      },
      "execution_count": null,
      "outputs": [
        {
          "output_type": "stream",
          "name": "stdout",
          "text": [
            "2024-12-10 15:20:16,582 - INFO - Running data analysis...\n",
            "2024-12-10 15:20:17,177 - INFO - Found 1 GPUs for data analyzing!\n"
          ]
        },
        {
          "output_type": "stream",
          "name": "stderr",
          "text": [
            "\r  0%|          | 0/15 [00:00<?, ?it/s]"
          ]
        }
      ]
    },
    {
      "cell_type": "code",
      "source": [
        "print(os.listdir('./output_dir'))\n",
        "work_dir = \"./output_dir\""
      ],
      "metadata": {
        "id": "lfXk1BxEkwSc",
        "colab": {
          "base_uri": "https://localhost:8080/"
        },
        "outputId": "db3a2e22-06d7-40d7-fc48-c2192b16254c"
      },
      "execution_count": null,
      "outputs": [
        {
          "output_type": "stream",
          "name": "stdout",
          "text": [
            "['te_image_001_ensemble.nii.gz', 'te_image_004_ensemble.nii.gz', 'te_image_002_ensemble.nii.gz', 'te_image_003_ensemble.nii.gz', 'te_image_005_ensemble.nii.gz']\n"
          ]
        }
      ]
    },
    {
      "cell_type": "code",
      "source": [
        "image_name = \"te_image_005\"\n",
        "prediction_nib = nib.load(os.path.join(work_dir, image_name + \"_ensemble\" + \".nii.gz\"))\n",
        "pred = np.array(prediction_nib.dataobj)\n"
      ],
      "metadata": {
        "id": "1_rKyh9hPY6J"
      },
      "execution_count": null,
      "outputs": []
    },
    {
      "cell_type": "code",
      "source": [
        "print(pred.shape)\n",
        "print(y_test.shape)"
      ],
      "metadata": {
        "id": "n2GhpZtCPq1y",
        "colab": {
          "base_uri": "https://localhost:8080/"
        },
        "outputId": "d1270f80-1941-410d-92f9-c169fb308979"
      },
      "execution_count": null,
      "outputs": [
        {
          "output_type": "stream",
          "name": "stdout",
          "text": [
            "(512, 512, 64)\n",
            "(5, 512, 512, 64)\n"
          ]
        }
      ]
    },
    {
      "cell_type": "code",
      "source": [
        "plt.figure(figsize=(5, 12))\n",
        "\n",
        "img = pred\n",
        "lab = y_test[4,:,:,:]\n",
        "\n",
        "for i in range(6):\n",
        "  sub = np.random.randint(0, 64)\n",
        "\n",
        "  plt.subplot(6, 2, 2*i+1)\n",
        "  plt.imshow(img[:, :, sub])\n",
        "  plt.xticks([])\n",
        "  plt.yticks([])\n",
        "  plt.subplot(6, 2, 2*i+2)\n",
        "  plt.imshow(lab[:, :, sub])\n",
        "  plt.xticks([])\n",
        "  plt.yticks([])\n",
        "\n",
        "plt.tight_layout()\n",
        "plt.show()"
      ],
      "metadata": {
        "id": "n6-QPaDNP8EN",
        "colab": {
          "base_uri": "https://localhost:8080/",
          "height": 1000
        },
        "outputId": "3bb87c41-cc8e-4017-a08c-73b5dd9b3ccb"
      },
      "execution_count": null,
      "outputs": [
        {
          "output_type": "display_data",
          "data": {
            "text/plain": [
              "<Figure size 500x1200 with 12 Axes>"
            ],
            "image/png": "[encoded data removed]"
          },
          "metadata": {}
        }
      ]
    },
    {
      "cell_type": "code",
      "source": [
        "# prompt: Make this code: image_name = \"te_image_005\"\n",
        "# prediction_nib = nib.load(os.path.join(work_dir, image_name + \"_ensemble\" + \".nii.gz\"))\n",
        "# pred = np.array(prediction_nib.dataobj)\n",
        "# iteratable to iterate through a list of image_names\n",
        "\n",
        "import numpy as np\n",
        "pred = []\n",
        "image_names = [\"te_image_001\", \"te_image_002\", \"te_image_003\", \"te_image_004\",\"te_image_005\"]\n",
        "for image_name in image_names:\n",
        "  prediction_nib = nib.load(os.path.join(work_dir, image_name + \"_ensemble\" + \".nii.gz\"))\n",
        "  pred.append(np.array(prediction_nib.dataobj))\n",
        "  # Do something with pred\n"
      ],
      "metadata": {
        "id": "v2L9aXEZQN0I"
      },
      "execution_count": null,
      "outputs": []
    },
    {
      "cell_type": "code",
      "source": [
        "pred = np.array(pred)\n",
        "print(pred.shape)\n",
        "# np.savez('pred.npz', data=pred)\n",
        "# np.savez('y_test.npz', data=y_test)\n",
        "# np.savez('y_train.npz', data=y_train)\n",
        "# np.savez('x_test.npz', data=x_test)\n",
        "# np.savez('x_train.npz', data=x_train)\n",
        "save_path = '/content/drive/My Drive/Auto-Segmentation/' + 'output_dir' + '/pred.npz'\n",
        "np.savez(save_path, data=pred)\n",
        "np.savez('/content/drive/My Drive/Auto-Segmentation/' + work_dir + '/y_test.npz', data=y_test)\n",
        "np.savez('/content/drive/My Drive/Auto-Segmentation/' + work_dir + '/y_train.npz', data=y_train)\n",
        "np.savez('/content/drive/My Drive/Auto-Segmentation/' + work_dir + '/x_test.npz', data=x_test)\n",
        "np.savez('/content/drive/My Drive/Auto-Segmentation/' + work_dir + '/x_train.npz', data=x_train)\n",
        "np.savez('/content/drive/My Drive/Auto-Segmentation/' + work_dir + '/sim_datalist.npz', data=sim_datalist)\n",
        "os.listdir(work_dir)"
      ],
      "metadata": {
        "colab": {
          "base_uri": "https://localhost:8080/"
        },
        "id": "6MYb6rOwoXa6",
        "outputId": "2cd72420-8126-439a-8da3-4e3e523dd7b2"
      },
      "execution_count": null,
      "outputs": [
        {
          "output_type": "stream",
          "name": "stdout",
          "text": [
            "(5, 512, 512, 64)\n"
          ]
        },
        {
          "output_type": "execute_result",
          "data": {
            "text/plain": [
              "['te_image_001_ensemble.nii.gz',\n",
              " 'te_image_004_ensemble.nii.gz',\n",
              " 'te_image_002_ensemble.nii.gz',\n",
              " 'te_image_003_ensemble.nii.gz',\n",
              " 'te_image_005_ensemble.nii.gz']"
            ]
          },
          "metadata": {},
          "execution_count": 49
        }
      ]
    },
    {
      "cell_type": "code",
      "source": [
        "print(work_dir)"
      ],
      "metadata": {
        "colab": {
          "base_uri": "https://localhost:8080/"
        },
        "id": "vKc_VNBl70ne",
        "outputId": "fe889f70-668c-40dc-fd6a-57103d88600b"
      },
      "execution_count": null,
      "outputs": [
        {
          "output_type": "stream",
          "name": "stdout",
          "text": [
            "./output_dir\n"
          ]
        }
      ]
    },
    {
      "cell_type": "code",
      "source": [
        "# prompt: Calculate the accuracy of pred to y_test with sklearn\n",
        "from sklearn.metrics import accuracy_score\n",
        "accuracy = accuracy_score(pred.flatten(), y_test.flatten())\n",
        "print(f\"Accuracy: {accuracy:.4f}\")\n",
        "from sklearn.metrics import f1_score, recall_score, precision_score, classification_report\n",
        "def dice_coefficient(y_true, y_pred):\n",
        "    intersection = np.sum(y_true * y_pred)\n",
        "    return (2. * intersection) / (np.sum(y_true) + np.sum(y_pred))\n",
        "# Calculate F1 score\n",
        "f1 = f1_score(y_test.flatten(), pred.flatten())\n",
        "\n",
        "# Calculate DICE score\n",
        "dice = dice_coefficient(y_test, pred)\n",
        "\n",
        "# Calculate precision\n",
        "precision = precision_score(y_test.flatten(), pred.flatten())\n",
        "\n",
        "# Calculate recall\n",
        "recall = recall_score(y_test.flatten(), pred.flatten())\n",
        "\n",
        "# Generate classification report\n",
        "report = classification_report(y_test.flatten(), pred.flatten())\n",
        "\n",
        "# Print all the scores\n",
        "print(\"F1 Score:\", f1)\n",
        "print(\"DICE Score:\", dice)\n",
        "print(\"Precision:\", precision)\n",
        "print(\"Recall:\", recall)\n",
        "print(\"Classification Report:\\n\", report)"
      ],
      "metadata": {
        "colab": {
          "base_uri": "https://localhost:8080/"
        },
        "id": "1Qw0TaHppEk_",
        "outputId": "d2dca859-3882-4fb9-a589-8da6d76a6154"
      },
      "execution_count": null,
      "outputs": [
        {
          "output_type": "stream",
          "name": "stdout",
          "text": [
            "Accuracy: 0.9969\n",
            "F1 Score: 0.4699138100609793\n",
            "DICE Score: 0.46991381006097926\n",
            "Precision: 0.4232495073490861\n",
            "Recall: 0.5281428642329575\n",
            "Classification Report:\n",
            "               precision    recall  f1-score   support\n",
            "\n",
            "         0.0       1.00      1.00      1.00  83664443\n",
            "         1.0       0.42      0.53      0.47    221637\n",
            "\n",
            "    accuracy                           1.00  83886080\n",
            "   macro avg       0.71      0.76      0.73  83886080\n",
            "weighted avg       1.00      1.00      1.00  83886080\n",
            "\n"
          ]
        }
      ]
    },
    {
      "cell_type": "code",
      "source": [
        "dice = dice_coefficient(y_test, pred)\n",
        "print(dice)"
      ],
      "metadata": {
        "id": "HM2Vuza-pZhw",
        "colab": {
          "base_uri": "https://localhost:8080/"
        },
        "outputId": "b3b4094c-50b5-4056-def5-4d49d1ce3673"
      },
      "execution_count": null,
      "outputs": [
        {
          "output_type": "stream",
          "name": "stdout",
          "text": [
            "0.46991381006097926\n"
          ]
        }
      ]
    },
    {
      "cell_type": "code",
      "source": [
        "print(x_train.shape)\n",
        "print(y_train.shape)\n",
        "print(x_test.shape)\n"
      ],
      "metadata": {
        "colab": {
          "base_uri": "https://localhost:8080/"
        },
        "id": "ILb8TGkfBM-q",
        "outputId": "b9d2498e-244f-41ae-c36b-4e3cf6eae1be"
      },
      "execution_count": null,
      "outputs": [
        {
          "output_type": "stream",
          "name": "stdout",
          "text": [
            "(15, 512, 512, 64)\n",
            "(15, 512, 512, 64)\n",
            "(5, 512, 512, 64)\n"
          ]
        }
      ]
    },
    {
      "cell_type": "code",
      "source": [
        "import cv2\n",
        "def shrink_xy(img, xs=128, ys=128):\n",
        "    \"\"\"\n",
        "    Reduce the xy resolution of a 3D image.\n",
        "\n",
        "    Parameters:\n",
        "      img (numpy array) : input image\n",
        "      xs (int) : new x resolution\n",
        "      ys (int) : new y resolution\n",
        "\n",
        "    Output:\n",
        "      res (numpy array) : output image\n",
        "    \"\"\"\n",
        "    res = np.zeros((xs, ys, 64))\n",
        "    for i in range(64):\n",
        "      res[:, :, i] = cv2.resize(img[:, :, i], (xs, ys))\n",
        "\n",
        "    return res"
      ],
      "metadata": {
        "id": "oridiJD_I0_3"
      },
      "execution_count": null,
      "outputs": []
    },
    {
      "cell_type": "code",
      "source": [
        "work_dir = \"./output_dir\"\n",
        "\n",
        "\n",
        "pred = np.load('/content/drive/My Drive/Auto-Segmentation/' + work_dir + '/pred.npz')\n",
        "y_test = np.load('/content/drive/My Drive/Auto-Segmentation/' + work_dir + '/y_test.npz')\n",
        "y_train = np.load('/content/drive/My Drive/Auto-Segmentation/' + work_dir + '/y_train.npz')\n",
        "x_test = np.load('/content/drive/My Drive/Auto-Segmentation/' + work_dir + '/x_test.npz')\n",
        "x_train = np.load('/content/drive/My Drive/Auto-Segmentation/' + work_dir + '/x_train.npz')\n",
        "\n"
      ],
      "metadata": {
        "id": "NtkvNpn0eDpf"
      },
      "execution_count": null,
      "outputs": []
    },
    {
      "cell_type": "code",
      "source": [
        "print(pred['data'].shape)"
      ],
      "metadata": {
        "colab": {
          "base_uri": "https://localhost:8080/"
        },
        "id": "VdgZDv8tf4A_",
        "outputId": "86e9fcd2-2123-43be-b86a-2a035c66345a"
      },
      "execution_count": null,
      "outputs": [
        {
          "output_type": "stream",
          "name": "stdout",
          "text": [
            "(5, 512, 512, 64)\n"
          ]
        }
      ]
    },
    {
      "cell_type": "code",
      "source": [
        "def predictions_to_stack(y_pred, stack_size=64):\n",
        "  \"\"\"\n",
        "  Converts a group of 2D arrays into a 3D array\n",
        "\n",
        "  Parameters:\n",
        "    y_pred (numpy array) : array of shape (n, xd, yd)\n",
        "    stack_size (int) : number of frames to stack\n",
        "\n",
        "  Output:\n",
        "    stacked_y (numpy array) : array of shape\n",
        "        (n // stack_size, xd, yd, stack_size)\n",
        "\n",
        "\n",
        "  \"\"\"\n",
        "\n",
        "  assert y_pred.shape[0] % stack_size == 0\n",
        "\n",
        "  n_stacks = y_pred.shape[0] // stack_size\n",
        "\n",
        "  stacked_y = np.zeros((n_stacks, y_pred.shape[1], y_pred.shape[2], stack_size))\n",
        "\n",
        "  for i in range(n_stacks):\n",
        "    stacked_y[i, :, :, :] = y_pred[i * stack_size:(i + 1) * stack_size, :, :]\n",
        "\n",
        "  return stacked_y"
      ],
      "metadata": {
        "id": "8tmfhL0YgvCa"
      },
      "execution_count": null,
      "outputs": []
    },
    {
      "cell_type": "code",
      "source": [
        "print(y_test['data'].shape)"
      ],
      "metadata": {
        "colab": {
          "base_uri": "https://localhost:8080/"
        },
        "id": "C4KyewGphnGP",
        "outputId": "f4d90cf0-9d15-46e9-dbfd-426d1e53d942"
      },
      "execution_count": null,
      "outputs": [
        {
          "output_type": "stream",
          "name": "stdout",
          "text": [
            "(5, 512, 512, 64)\n"
          ]
        }
      ]
    },
    {
      "cell_type": "code",
      "source": [
        "from numpy import linspace\n",
        "import numpy as np\n",
        "import matplotlib.pyplot as plt\n",
        "from mpl_toolkits import mplot3d\n",
        "# y_predt_stack = np.transpose(pred['data'][0], (0, 1, 2)).astype(np.uint8)\n",
        "# y_test_stack = np.transpose(y_test['data'][0], (0, 1, 2)).astype(np.uint8)\n",
        "\n",
        "y_predt_stack = shrink_xy(predictions_to_stack(pred['data'][0]))\n",
        "y_test_stack = shrink_xy(predictions_to_stack(y_test['data'][0]))\n",
        "\n",
        "# Creating 3D figure\n",
        "fig = plt.figure(figsize=(8, 8))\n",
        "ax = plt.axes(projection='3d')\n",
        "\n",
        "ax = plt.figure().add_subplot(projection='3d')\n",
        "\n",
        "ax.voxels(y_test_stack, alpha=0.5, label='Test')\n",
        "ax.voxels(y_predt_stack, alpha=0.5, label='Predicted')\n",
        "plt.show()\n",
        "\n",
        "# 360 Degree view\n",
        "# for angle in range(0, 360):\n",
        "#     ax.view_init(angle, 30)\n",
        "#     plt.draw()\n",
        "#     plt.pause(.001)\n",
        "\n",
        "plt.show()"
      ],
      "metadata": {
        "colab": {
          "base_uri": "https://localhost:8080/",
          "height": 332
        },
        "id": "kQKuMBVL_7fu",
        "outputId": "9c67a4da-b3cf-41e2-c123-9814b0f6be40"
      },
      "execution_count": null,
      "outputs": [
        {
          "output_type": "error",
          "ename": "ValueError",
          "evalue": "could not broadcast input array from shape (64,512,64) into shape (512,64,64)",
          "traceback": [
            "\u001b[0;31m---------------------------------------------------------------------------\u001b[0m",
            "\u001b[0;31mValueError\u001b[0m                                Traceback (most recent call last)",
            "\u001b[0;32m<ipython-input-27-f6a57b74a878>\u001b[0m in \u001b[0;36m<cell line: 8>\u001b[0;34m()\u001b[0m\n\u001b[1;32m      6\u001b[0m \u001b[0;31m# y_test_stack = np.transpose(y_test['data'][0], (0, 1, 2)).astype(np.uint8)\u001b[0m\u001b[0;34m\u001b[0m\u001b[0;34m\u001b[0m\u001b[0m\n\u001b[1;32m      7\u001b[0m \u001b[0;34m\u001b[0m\u001b[0m\n\u001b[0;32m----> 8\u001b[0;31m \u001b[0my_predt_stack\u001b[0m \u001b[0;34m=\u001b[0m \u001b[0mshrink_xy\u001b[0m\u001b[0;34m(\u001b[0m\u001b[0mpredictions_to_stack\u001b[0m\u001b[0;34m(\u001b[0m\u001b[0mpred\u001b[0m\u001b[0;34m[\u001b[0m\u001b[0;34m'data'\u001b[0m\u001b[0;34m]\u001b[0m\u001b[0;34m[\u001b[0m\u001b[0;36m0\u001b[0m\u001b[0;34m]\u001b[0m\u001b[0;34m)\u001b[0m\u001b[0;34m)\u001b[0m\u001b[0;34m\u001b[0m\u001b[0;34m\u001b[0m\u001b[0m\n\u001b[0m\u001b[1;32m      9\u001b[0m \u001b[0my_test_stack\u001b[0m \u001b[0;34m=\u001b[0m \u001b[0mshrink_xy\u001b[0m\u001b[0;34m(\u001b[0m\u001b[0mpredictions_to_stack\u001b[0m\u001b[0;34m(\u001b[0m\u001b[0my_test\u001b[0m\u001b[0;34m[\u001b[0m\u001b[0;34m'data'\u001b[0m\u001b[0;34m]\u001b[0m\u001b[0;34m[\u001b[0m\u001b[0;36m0\u001b[0m\u001b[0;34m]\u001b[0m\u001b[0;34m)\u001b[0m\u001b[0;34m)\u001b[0m\u001b[0;34m\u001b[0m\u001b[0;34m\u001b[0m\u001b[0m\n\u001b[1;32m     10\u001b[0m \u001b[0;34m\u001b[0m\u001b[0m\n",
            "\u001b[0;32m<ipython-input-24-d2e7153401d8>\u001b[0m in \u001b[0;36mpredictions_to_stack\u001b[0;34m(y_pred, stack_size)\u001b[0m\n\u001b[1;32m     21\u001b[0m \u001b[0;34m\u001b[0m\u001b[0m\n\u001b[1;32m     22\u001b[0m   \u001b[0;32mfor\u001b[0m \u001b[0mi\u001b[0m \u001b[0;32min\u001b[0m \u001b[0mrange\u001b[0m\u001b[0;34m(\u001b[0m\u001b[0mn_stacks\u001b[0m\u001b[0;34m)\u001b[0m\u001b[0;34m:\u001b[0m\u001b[0;34m\u001b[0m\u001b[0;34m\u001b[0m\u001b[0m\n\u001b[0;32m---> 23\u001b[0;31m     \u001b[0mstacked_y\u001b[0m\u001b[0;34m[\u001b[0m\u001b[0mi\u001b[0m\u001b[0;34m,\u001b[0m \u001b[0;34m:\u001b[0m\u001b[0;34m,\u001b[0m \u001b[0;34m:\u001b[0m\u001b[0;34m,\u001b[0m \u001b[0;34m:\u001b[0m\u001b[0;34m]\u001b[0m \u001b[0;34m=\u001b[0m \u001b[0my_pred\u001b[0m\u001b[0;34m[\u001b[0m\u001b[0mi\u001b[0m \u001b[0;34m*\u001b[0m \u001b[0mstack_size\u001b[0m\u001b[0;34m:\u001b[0m\u001b[0;34m(\u001b[0m\u001b[0mi\u001b[0m \u001b[0;34m+\u001b[0m \u001b[0;36m1\u001b[0m\u001b[0;34m)\u001b[0m \u001b[0;34m*\u001b[0m \u001b[0mstack_size\u001b[0m\u001b[0;34m,\u001b[0m \u001b[0;34m:\u001b[0m\u001b[0;34m,\u001b[0m \u001b[0;34m:\u001b[0m\u001b[0;34m]\u001b[0m\u001b[0;34m\u001b[0m\u001b[0;34m\u001b[0m\u001b[0m\n\u001b[0m\u001b[1;32m     24\u001b[0m \u001b[0;34m\u001b[0m\u001b[0m\n\u001b[1;32m     25\u001b[0m   \u001b[0;32mreturn\u001b[0m \u001b[0mstacked_y\u001b[0m\u001b[0;34m\u001b[0m\u001b[0;34m\u001b[0m\u001b[0m\n",
            "\u001b[0;31mValueError\u001b[0m: could not broadcast input array from shape (64,512,64) into shape (512,64,64)"
          ]
        }
      ]
    },
    {
      "cell_type": "code",
      "source": [],
      "metadata": {
        "id": "g23cgBDbA3wn"
      },
      "execution_count": null,
      "outputs": []
    }
  ]
}